{
  "nbformat": 4,
  "nbformat_minor": 0,
  "metadata": {
    "colab": {
      "provenance": [],
      "include_colab_link": true
    },
    "kernelspec": {
      "name": "python3",
      "display_name": "Python 3"
    },
    "language_info": {
      "name": "python"
    }
  },
  "cells": [
    {
      "cell_type": "markdown",
      "metadata": {
        "id": "view-in-github",
        "colab_type": "text"
      },
      "source": [
        "<a href=\"https://colab.research.google.com/github/InsightfulSantosh/BackgroundRemoval/blob/main/If_Else_and_loops_practice.ipynb\" target=\"_parent\"><img src=\"https://colab.research.google.com/assets/colab-badge.svg\" alt=\"Open In Colab\"/></a>"
      ]
    },
    {
      "cell_type": "markdown",
      "source": [
        "### `Problem 1`: Write a program that will give you in hand monthly salary after deduction on CTC - HRA(10%), DA(5%), PF(3%) and taxes deduction as below:\n",
        "\n",
        "> Salary(Lakhs) : Tax(%)\n",
        "\n",
        "*   Below 5 : 0%\n",
        "*   5-10 : 10%\n",
        "*   10-20 : 20%\n",
        "*   aboove 20 : 30%"
      ],
      "metadata": {
        "id": "w6RlOAXV2PWh"
      }
    },
    {
      "cell_type": "code",
      "source": [
        "#write your code\n",
        "ctc = int(input('Enter your anual CTC:'))\n",
        "\n",
        "if ctc < 5000000:\n",
        "    salary=ctc*.82\n",
        "elif ctc<1000000:\n",
        "    salary=ctc*.72\n",
        "elif ctc<2000000:\n",
        "    salary=ctc*.62\n",
        "else:\n",
        "    salary=ctc*.52\n",
        "\n",
        "print(\"You in hand monthly salary will be-\", round(salary/12,2))"
      ],
      "metadata": {
        "id": "7tMHvKYO2etI",
        "colab": {
          "base_uri": "https://localhost:8080/"
        },
        "outputId": "b6f06670-7eb7-461e-a384-7c2912cd5c8f"
      },
      "execution_count": null,
      "outputs": [
        {
          "output_type": "stream",
          "name": "stdout",
          "text": [
            "Enter your anual CTC:55667\n",
            "You in hand monthly salary will be- 3803.91\n"
          ]
        }
      ]
    },
    {
      "cell_type": "markdown",
      "source": [
        "### `Problem 2`: Write a program that take a user input of three angles and will find out whether it can form a triangle or not."
      ],
      "metadata": {
        "id": "tYzCGqwl2hfN"
      }
    },
    {
      "cell_type": "code",
      "source": [
        "# Write code here\n",
        "first = int(input('enter the 1st angle'))\n",
        "second = int(input('enter the 2nd angle'))\n",
        "third = int(input('enter the 3rd angle'))\n",
        "\n",
        "if (first+second+third) == 180 and first>0 and second>0 and third>0:\n",
        "  print('forms a triangle')\n",
        "else:\n",
        "  print('does not form a triangle')"
      ],
      "metadata": {
        "id": "FYEqln-I2kxV",
        "colab": {
          "base_uri": "https://localhost:8080/"
        },
        "outputId": "2484d652-b9a0-490f-aca7-056dfdbf23d0"
      },
      "execution_count": null,
      "outputs": [
        {
          "output_type": "stream",
          "name": "stdout",
          "text": [
            "enter the 1st angle57\n",
            "enter the 2nd angle56\n",
            "enter the 3rd angle78\n",
            "does not form a triangle\n"
          ]
        }
      ]
    },
    {
      "cell_type": "markdown",
      "source": [
        "### `Problem 3`: Write a program that will take user input of cost price and selling price and determines whether its a loss or a profit."
      ],
      "metadata": {
        "id": "5vEpPh8C2pE4"
      }
    },
    {
      "cell_type": "code",
      "source": [
        "# write your code here\n",
        "cost_price = int(input('Enter cost price-'))\n",
        "selling_price = int(input('Enter selling price-'))\n",
        "\n",
        "if cost_price < selling_price:\n",
        "    print('Profit')\n",
        "elif cost_price > selling_price:\n",
        "    print('Loss')\n",
        "else:\n",
        "    print('No Loss No Gain')"
      ],
      "metadata": {
        "id": "jDwBXlkO2sfl",
        "colab": {
          "base_uri": "https://localhost:8080/"
        },
        "outputId": "b0645727-f222-4d3d-81ba-de3ab458f6f3"
      },
      "execution_count": null,
      "outputs": [
        {
          "output_type": "stream",
          "name": "stdout",
          "text": [
            "Enter cost price-4566\n",
            "Enter selling price-5644\n",
            "Profit\n"
          ]
        }
      ]
    },
    {
      "cell_type": "markdown",
      "source": [
        "### `Problem 4`: Write a menu-driven program -\n",
        "1. cm to ft\n",
        "2. km to miles\n",
        "3. USD to INR\n",
        "4. exit"
      ],
      "metadata": {
        "id": "J_FG_cJW2ugT"
      }
    },
    {
      "cell_type": "code",
      "source": [
        "# Write code here\n",
        "menu = input(\"\"\"\n",
        "Hi select an option\n",
        "1. cms to ft\n",
        "2. km to miles\n",
        "3. USD to INR\n",
        "4. Exit\n",
        "\"\"\")\n",
        "\n",
        "if menu == '1':\n",
        "  cm = float(input('enter the cm value'))\n",
        "  print('ft value is',0.032*cm)\n",
        "elif menu == '2':\n",
        "  km = float(input('enter the km value'))\n",
        "  print('miles value is',km*0.62)\n",
        "elif menu == '3':\n",
        "  usd = float(input('enter usd'))\n",
        "  print('inr',usd*80)\n",
        "else:\n",
        "  exit()"
      ],
      "metadata": {
        "id": "yBHhaCGQ2zpD",
        "colab": {
          "base_uri": "https://localhost:8080/"
        },
        "outputId": "d99679ac-10b1-47d9-96c8-c85e5192c5e7"
      },
      "execution_count": null,
      "outputs": [
        {
          "name": "stdout",
          "output_type": "stream",
          "text": [
            "\n",
            "Hi select an option\n",
            "1. cms to ft\n",
            "2. km to miles\n",
            "3. USD to INR\n",
            "4. Exit\n",
            "cms to ft\n"
          ]
        }
      ]
    },
    {
      "cell_type": "markdown",
      "source": [
        "### `Problem 5` - Exercise 12: Display Fibonacci series up to 10 terms.\n",
        "\n",
        "*Note: The Fibonacci Sequence is a series of numbers. The next number is found by adding up the two numbers before it. The first two numbers are 0 and 1. For example, 0, 1, 1, 2, 3, 5, 8, 13, 21. The next number in this series above is 13+21 = 34*"
      ],
      "metadata": {
        "id": "LJJ30_Yw27ZU"
      }
    },
    {
      "cell_type": "code",
      "source": [
        "# Write code here\n",
        "n=10\n",
        "a,b=0,1\n",
        "for i in range (0,n+1):\n",
        "  print(a)\n",
        "  next= a+b\n",
        "  a=b\n",
        "  b=next\n"
      ],
      "metadata": {
        "id": "ae_1rpe52-5R",
        "outputId": "d78a5d78-ba06-4e42-a5d1-98f2d04a74b7",
        "colab": {
          "base_uri": "https://localhost:8080/"
        }
      },
      "execution_count": null,
      "outputs": [
        {
          "output_type": "stream",
          "name": "stdout",
          "text": [
            "0\n",
            "1\n",
            "1\n",
            "2\n",
            "3\n",
            "5\n",
            "8\n",
            "13\n",
            "21\n",
            "34\n",
            "55\n"
          ]
        }
      ]
    },
    {
      "cell_type": "markdown",
      "source": [
        "### `Problem 6` - Find the factorial of a given number.\n",
        "\n",
        "Write a program to use the loop to find the factorial of a given number.\n",
        "\n",
        "The factorial (symbol: `!`) means to multiply all whole numbers from the chosen number down to 1.\n",
        "\n",
        "For example: calculate the factorial of 5\n",
        "\n",
        "```bash\n",
        "5! = 5 × 4 × 3 × 2 × 1 = 120\n",
        "```\n",
        "\n",
        "Output:\n",
        "\n",
        "```bash\n",
        "120\n",
        "```"
      ],
      "metadata": {
        "id": "pk_I_S4m3PT5"
      }
    },
    {
      "cell_type": "code",
      "source": [
        "# Write code here\n",
        "num=5\n",
        "fact = 1\n",
        "for i in range(1,num+1):\n",
        "  fact = fact*i\n",
        "\n",
        "print(fact)"
      ],
      "metadata": {
        "id": "lzXxHegx3Rkc",
        "outputId": "3b42fc43-0d66-47db-b0a8-8debbeb4ddbe",
        "colab": {
          "base_uri": "https://localhost:8080/"
        }
      },
      "execution_count": null,
      "outputs": [
        {
          "output_type": "stream",
          "name": "stdout",
          "text": [
            "120\n"
          ]
        }
      ]
    },
    {
      "cell_type": "markdown",
      "source": [
        "### `Problem 7` - Reverse a given integer number.\n",
        "\n",
        "Example:\n",
        "\n",
        "`Input:`\n",
        "\n",
        "```bash\n",
        "76542\n",
        "```\n",
        "\n",
        "`Output:`\n",
        "\n",
        "```bash\n",
        "24567\n",
        "```"
      ],
      "metadata": {
        "id": "-17IOi-g3UpU"
      }
    },
    {
      "cell_type": "code",
      "source": [
        "# Write code here\n",
        "n=76542\n",
        "\n",
        "int(\"\".join(reversed(str(n))))"
      ],
      "metadata": {
        "id": "wJwLpKCr3aVA",
        "outputId": "c1d262ee-441c-4257-8054-6dcd35245b30",
        "colab": {
          "base_uri": "https://localhost:8080/"
        }
      },
      "execution_count": null,
      "outputs": [
        {
          "output_type": "execute_result",
          "data": {
            "text/plain": [
              "24567"
            ]
          },
          "metadata": {},
          "execution_count": 102
        }
      ]
    },
    {
      "cell_type": "code",
      "source": [
        "n=76542\n",
        "rev=0\n",
        "while(n>0):\n",
        "  a=n%10\n",
        "  rev=rev*10+a\n",
        "  n=n//10\n",
        "print(rev)"
      ],
      "metadata": {
        "id": "9BU4ojhJOi9K",
        "outputId": "b9bee983-98c2-4023-f004-353db880b878",
        "colab": {
          "base_uri": "https://localhost:8080/"
        }
      },
      "execution_count": null,
      "outputs": [
        {
          "output_type": "stream",
          "name": "stdout",
          "text": [
            "24567\n"
          ]
        }
      ]
    },
    {
      "cell_type": "markdown",
      "source": [
        "### `Problem 8`: Take a user input as integer N. Find out the sum from 1 to N. If any number if divisible by 5, then skip that number. And if the sum is greater than 300, don't need to calculate the sum further more. Print the final result. And don't use for loop to solve this problem.\n",
        "\n",
        "**Example 1:**\n",
        "\n",
        "`Input:`\n",
        "\n",
        "```bash\n",
        "30\n",
        "```\n",
        "\n",
        "`Output:`\n",
        "\n",
        "```bash\n",
        "276\n",
        "```"
      ],
      "metadata": {
        "id": "-t8PJQaY3sHf"
      }
    },
    {
      "cell_type": "code",
      "source": [
        "# Write code here\n",
        "N=30\n",
        "sum = 0\n",
        "i = 1\n",
        "\n",
        "while i < N+1:\n",
        "  if i % 5 == 0:\n",
        "    i+=1\n",
        "    continue\n",
        "\n",
        "  sum += i\n",
        "\n",
        "  if sum > 300:\n",
        "    sum = sum - i\n",
        "    break\n",
        "\n",
        "  i+=1\n",
        "\n",
        "print(sum)\n",
        "\n"
      ],
      "metadata": {
        "id": "GZB6mGMP3ujT",
        "outputId": "5fb474b5-8a3a-47d0-cfe9-a1971dea0c98",
        "colab": {
          "base_uri": "https://localhost:8080/"
        }
      },
      "execution_count": null,
      "outputs": [
        {
          "output_type": "stream",
          "name": "stdout",
          "text": [
            "276\n"
          ]
        }
      ]
    },
    {
      "cell_type": "markdown",
      "source": [
        "### `Problem 9`: Write a program that keeps on accepting a number from the user until the user enters Zero. Display the sum and average of all the numbers."
      ],
      "metadata": {
        "id": "Q7ggImeA3xm4"
      }
    },
    {
      "cell_type": "code",
      "source": [
        "# Write code here\n",
        "\n",
        "count=0\n",
        "sum=0\n",
        "while True:\n",
        "  n= int(input(\"enter\"))\n",
        "  if n==0:\n",
        "    break\n",
        "  count=count+1\n",
        "  sum+=n\n",
        "  avg= sum/(count)\n",
        "\n",
        "\n",
        "print(sum)\n",
        "print(avg)\n",
        "\n",
        "\n"
      ],
      "metadata": {
        "colab": {
          "base_uri": "https://localhost:8080/"
        },
        "id": "5RajMnTzSe2-",
        "outputId": "b25bd4a7-fa9f-45b4-fcbc-fca266dcbfcb"
      },
      "execution_count": null,
      "outputs": [
        {
          "output_type": "stream",
          "name": "stdout",
          "text": [
            "enter55\n",
            "enter553\n",
            "enter0\n",
            "608\n",
            "304.0\n"
          ]
        }
      ]
    },
    {
      "cell_type": "markdown",
      "source": [
        "###`Problem 9`: Write a program which will find all such numbers which are divisible by 7 but are not a multiple of 5, between 2000 and 3200 (both included). The numbers obtained should be printed in a comma-separated sequence on a single line."
      ],
      "metadata": {
        "id": "6EhvEMvm4R7s"
      }
    },
    {
      "cell_type": "code",
      "source": [
        "# Write code here\n",
        "lst_n=[]\n",
        "for i in range( 2000,3200+1):\n",
        "  if (i%7==0) and i%5!=0:\n",
        "    lst_n.append(i)\n",
        "\n",
        "print(lst_n)\n"
      ],
      "metadata": {
        "id": "d6RgP1B34T6c"
      },
      "execution_count": null,
      "outputs": []
    },
    {
      "cell_type": "markdown",
      "source": [
        "###`Problem 10`: Write a program, which will find all such numbers between 1000 and 3000 (both included) such that each digit of the number is an even number. The numbers obtained should be printed in a space-separated sequence on a single line.\n",
        "\n"
      ],
      "metadata": {
        "id": "tYvmRR-G4Vp4"
      }
    },
    {
      "cell_type": "code",
      "source": [
        "# Write code here\n",
        "L = []\n",
        "for i in range(1000,3001):\n",
        "  flag = True\n",
        "\n",
        "  curr = i\n",
        "\n",
        "  while curr > 0:\n",
        "    last = curr%10\n",
        "    if last % 2 != 0:\n",
        "      flag = False\n",
        "      break\n",
        "    curr = curr//10\n",
        "\n",
        "  if flag == True:\n",
        "    L.append(str(i))\n",
        "\n",
        "print(\",\".join(L))\n",
        "\n"
      ],
      "metadata": {
        "id": "k6Gs1kIf4k19"
      },
      "execution_count": null,
      "outputs": []
    },
    {
      "cell_type": "markdown",
      "source": [
        "###`Problem 11`: A robot moves in a plane starting from the original point (0,0). The robot can move toward UP, DOWN, LEFT and RIGHT with a given steps.\n",
        "The trace of robot movement is shown as the following:\n",
        "```\n",
        "UP 5\n",
        "DOWN 3\n",
        "LEFT 3\n",
        "RIGHT 2\n",
        "!\n",
        "```\n",
        "> The numbers after the direction are steps.\n",
        "\n",
        "> `!` means robot stop there.\n",
        "\n",
        "**Please write a program to compute the distance from current position after a sequence of movement and original point.**\n",
        "\n",
        "*If the distance is a float, then just print the nearest integer.*\n",
        "\n",
        "Example:\n",
        "\n",
        "`Input`:\n",
        "```\n",
        "UP 5\n",
        "DOWN 3\n",
        "LEFT 3\n",
        "RIGHT 2\n",
        "!\n",
        "```\n",
        "`Output`:\n",
        "```\n",
        "2\n",
        "```"
      ],
      "metadata": {
        "id": "GV18IINT4mf5"
      }
    },
    {
      "cell_type": "code",
      "source": [
        "# Write code here\n",
        "origin=[0,0]\n",
        "while True:\n",
        "  p=input(\"enter the position\")\n",
        "  if p== \"!\":\n",
        "    break\n",
        "  direction=p.split()[0].lower()\n",
        "  step=int(p.split()[1])\n",
        "\n",
        "  if direction==\"up\":\n",
        "    origin[1]=origin[1]+step\n",
        "\n",
        "  elif direction==\"down\":\n",
        "    origin[1]=origin[1]+step\n",
        "\n",
        "  elif direction==\"left\":\n",
        "    origin[0]=origin[0]+step\n",
        "\n",
        "  elif direction==\"right\":\n",
        "    origin[0]=origin[0]+step\n",
        "  else:\n",
        "    pass\n",
        "\n",
        "\n",
        "  print('new pos',origin)\n",
        "  print((origin[0]**2 + origin[1]**2)**0.5)\n",
        "\n",
        "\n",
        "\n"
      ],
      "metadata": {
        "id": "6UNMC2aR4w5x",
        "colab": {
          "base_uri": "https://localhost:8080/"
        },
        "outputId": "b7e59cc3-c206-4e3d-dfe8-b495816d0ed8"
      },
      "execution_count": null,
      "outputs": [
        {
          "name": "stdout",
          "output_type": "stream",
          "text": [
            "enter the positionup 14\n",
            "new pos [0, 14]\n",
            "14.0\n",
            "enter the positionleft 5\n",
            "new pos [5, 14]\n",
            "14.866068747318506\n",
            "enter the position!\n"
          ]
        }
      ]
    },
    {
      "cell_type": "markdown",
      "source": [
        "###`Problem 12`:Write a program to print whether a given number is a prime number or not"
      ],
      "metadata": {
        "id": "3fsAIAhK5GYY"
      }
    },
    {
      "cell_type": "code",
      "source": [
        "# Write code here\n",
        "n=9\n",
        "flag=True\n",
        "for i in range(2,n):\n",
        "  if n%i==0:\n",
        "    flag=False\n",
        "    break\n",
        "  else:\n",
        "    flag=True\n",
        "print(flag)\n"
      ],
      "metadata": {
        "id": "j6y91lxy5LZs",
        "colab": {
          "base_uri": "https://localhost:8080/"
        },
        "outputId": "db3093de-501b-4e3d-efe1-ff90f30d3ab6"
      },
      "execution_count": null,
      "outputs": [
        {
          "output_type": "stream",
          "name": "stdout",
          "text": [
            "False\n"
          ]
        }
      ]
    },
    {
      "cell_type": "markdown",
      "source": [
        "###`Problem 13`:Print all the Armstrong numbers in a given range.\n",
        "Range will be provided by the user<br>\n",
        "Armstrong number is a number that is equal to the sum of cubes of its digits. For example 0, 1, 153, 370, 371 and 407 are the Armstrong numbers."
      ],
      "metadata": {
        "id": "asAbmbK-5NHv"
      }
    },
    {
      "cell_type": "code",
      "source": [
        "start = 0\n",
        "end = 500\n",
        "\n",
        "for num in range(start, end + 1):\n",
        "    temp = num\n",
        "    sum_of_cubes = 0\n",
        "    while temp > 0:\n",
        "        digit = temp % 10\n",
        "        sum_of_cubes += digit ** 3\n",
        "        temp=temp// 10\n",
        "    if num == sum_of_cubes:\n",
        "        print(num)\n",
        "\n"
      ],
      "metadata": {
        "colab": {
          "base_uri": "https://localhost:8080/"
        },
        "id": "6ok0DsbzwGf3",
        "outputId": "e55b0a4d-dd28-4813-a049-4993fd2844cb"
      },
      "execution_count": null,
      "outputs": [
        {
          "output_type": "stream",
          "name": "stdout",
          "text": [
            "0\n",
            "1\n",
            "153\n",
            "370\n",
            "371\n",
            "407\n"
          ]
        }
      ]
    },
    {
      "cell_type": "markdown",
      "source": [
        "\n",
        "\n",
        "###Walkthrough\n",
        "\n",
        "Let's consider `num = 153`:\n",
        "1. **First Iteration**:\n",
        "    - `temp = 153`\n",
        "    - `digit = 153 % 10` -> `digit = 3`\n",
        "    - `sum_of_cubes += 3 ** 3` -> `sum_of_cubes = 27`\n",
        "    - `temp //= 10` -> `temp = 15`\n",
        "\n",
        "2. **Second Iteration**:\n",
        "    - `temp = 15`\n",
        "    - `digit = 15 % 10` -> `digit = 5`\n",
        "    - `sum_of_cubes += 5 ** 3` -> `sum_of_cubes = 152`\n",
        "    - `temp //= 10` -> `temp = 1`\n",
        "\n",
        "3. **Third Iteration**:\n",
        "    - `temp = 1`\n",
        "    - `digit = 1 % 10` -> `digit = 1`\n",
        "    - `sum_of_cubes += 1 ** 3` -> `sum_of_cubes = 153`\n",
        "    - `temp //= 10` -> `temp = 0`\n",
        "\n",
        "After all iterations, `temp` is 0, and `sum_of_cubes` is 153, which matches the original number `num`.\n",
        "\n",
        "This process ensures that every digit of the number is processed correctly to determine if it's an Armstrong number."
      ],
      "metadata": {
        "id": "MLtVzR26zZqc"
      }
    },
    {
      "cell_type": "markdown",
      "source": [],
      "metadata": {
        "id": "ejiUVOPSzfq-"
      }
    },
    {
      "cell_type": "markdown",
      "source": [
        "###`Problem 14`:Calculate the angle between the hour hand and minute hand.\n",
        "\n",
        "Note: There can be two angles between hands; we need to print a minimum of two. Also, we need to print the floor of the final result angle. For example, if the final angle is 10.61, we need to print 10.\n",
        "\n",
        "Input:<br>\n",
        "H = 9 , M = 0<br>\n",
        "Output:<br>\n",
        "90<br>\n",
        "Explanation:<br>\n",
        "The minimum angle between hour and minute\n",
        "hand when the time is 9 is 90 degress."
      ],
      "metadata": {
        "id": "ClCQZMqT7gK0"
      }
    },
    {
      "cell_type": "code",
      "source": [
        "# Write code here\n",
        "\n",
        "h= 12\n",
        "m=15\n",
        "\n",
        "if (h < 0 or m < 0 or h > 12 or m > 60):\n",
        "    print('Wrong input')\n",
        "# 1 minute in minute angle manke 6 degree. (60 minute -> 360 degree)\n",
        "m_angle = m*6\n",
        "h_angle=h*30 + m*0.5\n",
        "total_angle = abs(h_angle - m_angle)\n",
        "\n",
        "if total_angle>180:\n",
        "    print(360-total_angle)\n",
        "else:\n",
        "    print(total_angle)"
      ],
      "metadata": {
        "id": "tNBTCZML7jy_",
        "colab": {
          "base_uri": "https://localhost:8080/"
        },
        "outputId": "a05a62a9-38e7-465b-866d-48fd5c1b1707"
      },
      "execution_count": null,
      "outputs": [
        {
          "output_type": "stream",
          "name": "stdout",
          "text": [
            "82.5\n"
          ]
        }
      ]
    },
    {
      "cell_type": "markdown",
      "source": [
        "###`Problem 15`:Given two rectangles, find if the given two rectangles overlap or not. A rectangle is denoted by providing the x and y coordinates of two points: the left top corner and the right bottom corner of the rectangle. Two rectangles sharing a side are considered overlapping. (L1 and R1 are the extreme points of the first rectangle and L2 and R2 are the extreme points of the second rectangle).\n",
        "\n",
        "Note: It may be assumed that the rectangles are parallel to the coordinate axis.\n",
        "\n",
        "<img src='https://www.geeksforgeeks.org/wp-content/uploads/rectanglesOverlap.png' width='300' height='200'>"
      ],
      "metadata": {
        "id": "GwacF9Co72Qc"
      }
    },
    {
      "cell_type": "code",
      "source": [
        "77# Write code here\n",
        "print(\"Enter both Rectangel points coordinates <x y>\")\n",
        "\n",
        "l1_x, l1_y = list(map(int, input('Enter L1 coordinate value  (Two value space seperated):').split()))\n",
        "r1_x, r1_y = list(map(int, input('Enter r1 coordinate value,(Two value space seperated):').split()))\n",
        "\n",
        "l2_x, l2_y = list(map(int, input('Enter L2 coordinate value,(Two value space seperated):').split()))\n",
        "r2_x, r2_y = list(map(int, input('Enter r2 coordinate value,(Two value space seperated):').split()))\n",
        "\n",
        "# if rectangle has area 0, no overlap\n",
        "if l1_x == r1_x or l1_y == r1_y or r2_x == l2_x or l2_y == r2_y:\n",
        "  print(\"Don't Overlap\")\n",
        "\n",
        "# If one rectangle is on left side of other\n",
        "elif l1_x > r2_x or l2_x > r1_x:\n",
        "  print(\"Don't Overlap\")\n",
        "\n",
        "# If one rectangle is above other\n",
        "elif r1_y > l2_y or r2_y > l1_y:\n",
        "  print(\"Don't Overlap\")\n",
        "else:\n",
        "  print(\"Overlap\")"
      ],
      "metadata": {
        "id": "6rrw_lpH78Rs"
      },
      "execution_count": null,
      "outputs": []
    },
    {
      "cell_type": "markdown",
      "source": [
        "`Explaination:` The given code takes the coordinates of two rectangles from the user and checks if they overlap.\n",
        "* It does this by first checking if either rectangle has an area of 0 (i.e. one of the sides has length 0), in which case it prints \"Don't Overlap\".\n",
        "* It then checks if one rectangle is entirely to the left or above the other, in which case it also prints \"Don't Overlap\". If none of these conditions are true, it prints \"Overlap\"."
      ],
      "metadata": {
        "id": "9EswDjxd23nW"
      }
    },
    {
      "cell_type": "markdown",
      "source": [
        "### `Problem 16:` Write a Python program to count the number of characters (character frequency) in a string."
      ],
      "metadata": {
        "id": "ptplleao5BXP"
      }
    },
    {
      "cell_type": "code",
      "source": [
        "s= \"google.com\"\n",
        "word_count={}\n",
        "for i in (s):\n",
        "  s.count(i)\n",
        "  word_count[i]=s.count(i)\n",
        "word_count"
      ],
      "metadata": {
        "colab": {
          "base_uri": "https://localhost:8080/"
        },
        "id": "WB-nWHp55Nak",
        "outputId": "5c3b2785-69f8-4366-f954-4f965ddd8483"
      },
      "execution_count": null,
      "outputs": [
        {
          "output_type": "execute_result",
          "data": {
            "text/plain": [
              "{'g': 2, 'o': 3, 'l': 1, 'e': 1, '.': 1, 'c': 1, 'm': 1}"
            ]
          },
          "metadata": {},
          "execution_count": 21
        }
      ]
    },
    {
      "cell_type": "markdown",
      "source": [
        "### `problem 17:` In a maths competition, the Armstrong award would be presented to the one who would first tell the Armstrong number among all given numbers. Thus, write a program for Sam in Python to help him won the award."
      ],
      "metadata": {
        "id": "DbIaC37f76mH"
      }
    },
    {
      "cell_type": "code",
      "source": [
        "n=155\n",
        "\n",
        "\n",
        "temp= n\n",
        "sum=0\n",
        "while temp>0:\n",
        "    digit= temp%10\n",
        "    sum=sum+ digit**3\n",
        "    temp= temp//10\n",
        "\n",
        "if n==sum:\n",
        "  print(True)\n",
        "else:\n",
        "  print(False)\n",
        "\n",
        "\n",
        "\n",
        "\n",
        "\n"
      ],
      "metadata": {
        "colab": {
          "base_uri": "https://localhost:8080/"
        },
        "id": "GSn5BAaQ8BAs",
        "outputId": "0f42e672-8f4f-469f-d536-af05d4fcf341"
      },
      "execution_count": null,
      "outputs": [
        {
          "output_type": "stream",
          "name": "stdout",
          "text": [
            "false\n"
          ]
        }
      ]
    },
    {
      "cell_type": "markdown",
      "source": [
        "### `Problem 18:` Write a Python program to calculate the harmonic sum of n-1.\n",
        "\n",
        "Note: The harmonic sum is the sum of reciprocals of the positive integers."
      ],
      "metadata": {
        "id": "wcwpkoaM-reG"
      }
    },
    {
      "cell_type": "code",
      "source": [
        "def harmonic_sum(n):\n",
        "  if n < 2:\n",
        "    return 1\n",
        "  else:\n",
        "    return 1 / n + (harmonic_sum(n - 1))\n",
        "\n",
        "n=int(input())\n",
        "print(harmonic_sum(n))\n",
        "\n",
        "\n",
        "\n",
        "\n"
      ],
      "metadata": {
        "colab": {
          "base_uri": "https://localhost:8080/"
        },
        "id": "LtTRWLDN940b",
        "outputId": "d62e8f16-db08-4424-a6e7-a6d9e3bffe46"
      },
      "execution_count": null,
      "outputs": [
        {
          "output_type": "stream",
          "name": "stdout",
          "text": [
            "7\n",
            "2.5928571428571425\n"
          ]
        }
      ]
    },
    {
      "cell_type": "markdown",
      "source": [
        "### `Problem:`In a competition, participants were given a number to sum its digits until it was a single-digit number. So, write a Python program to add the digits of a positive integer repeatedly until the result has a single digit."
      ],
      "metadata": {
        "id": "iiET1MhrBc2i"
      }
    },
    {
      "cell_type": "code",
      "source": [
        "n=7548\n",
        "temp=n\n",
        "sum=0\n",
        "while temp>0:\n",
        "  digit= temp%10\n",
        "  sum=sum+digit\n",
        "  temp=temp//10\n",
        "\n",
        "new_n=sum\n",
        "new_sum=0\n",
        "while new_n>0:\n",
        "  digit= new_n%10\n",
        "  new_sum=new_sum+digit\n",
        "  new_n=new_n//10\n",
        "\n",
        "print(\"1st sum\", sum)\n",
        "print(\"last sum\", new_sum)\n",
        "\n"
      ],
      "metadata": {
        "colab": {
          "base_uri": "https://localhost:8080/"
        },
        "id": "a7z2LUKZBZVY",
        "outputId": "7d12a77a-02f4-4320-8ccc-27ededce00a4"
      },
      "execution_count": null,
      "outputs": [
        {
          "output_type": "stream",
          "name": "stdout",
          "text": [
            "1st sum 24\n",
            "last sum 6\n"
          ]
        }
      ]
    },
    {
      "cell_type": "markdown",
      "source": [
        "### `Problem:`In a test, students are supposed to write all the words in a passage whose length is a prime number. So, write a Python program to find all such words in a sentence/passage."
      ],
      "metadata": {
        "id": "nKGD6OiZEs5U"
      }
    },
    {
      "cell_type": "code",
      "source": [
        "s = \"The quick brown fox jumps over the lazy dog.\"\n",
        "lst = s.split()\n",
        "\n",
        "word_length = []\n",
        "sentence = []\n",
        "\n",
        "# Collect the lengths of words starting from index 2\n",
        "for i in range( len(lst)):\n",
        "    word_length.append(len(lst[i]))\n",
        "\n",
        "# Check if each word length is a prime number and append corresponding word to sentence\n",
        "for i in range(len(word_length)):\n",
        "    j = word_length[i]\n",
        "    flag = True\n",
        "    for k in range(2, int(j//2) + 1):\n",
        "      if j % k == 0:\n",
        "        flag = False\n",
        "        break\n",
        "    if flag:\n",
        "\n",
        "        sentence.append(lst[i ])  # Adjust index to match the original list\n",
        "    else:\n",
        "        pass\n",
        "\n",
        "print(sentence)\n",
        "\n"
      ],
      "metadata": {
        "colab": {
          "base_uri": "https://localhost:8080/"
        },
        "id": "T0-tmcLvG6ZM",
        "outputId": "f34de8c8-b391-4ec3-af15-61993d106030"
      },
      "execution_count": null,
      "outputs": [
        {
          "output_type": "stream",
          "name": "stdout",
          "text": [
            "['The', 'quick', 'brown', 'fox', 'jumps', 'the']\n"
          ]
        }
      ]
    },
    {
      "cell_type": "markdown",
      "source": [
        "### `Problem:` Write a Python program to find all integers between 1 to n that are the product of exactly three primes. Print the integer as list of its three prime factors."
      ],
      "metadata": {
        "id": "9DIcNUMVl2Ee"
      }
    },
    {
      "cell_type": "code",
      "source": [
        "n=50\n",
        "ps = [p for p in range(2,n) if all(p % sat != 0 for sat in range(2, p))]\n",
        "ps"
      ],
      "metadata": {
        "colab": {
          "base_uri": "https://localhost:8080/"
        },
        "id": "iR9oJRWXhd8Q",
        "outputId": "e9c2ce7c-e981-47fe-d0f3-0d3624461d5e"
      },
      "execution_count": null,
      "outputs": [
        {
          "output_type": "execute_result",
          "data": {
            "text/plain": [
              "[2, 3, 5, 7, 11, 13, 17, 19, 23, 29, 31, 37, 41, 43, 47]"
            ]
          },
          "metadata": {},
          "execution_count": 23
        }
      ]
    },
    {
      "cell_type": "code",
      "source": [
        "a = 1\n",
        "b = 100\n",
        "prime_list = []\n",
        "\n",
        "for i in range(2, b + 1):\n",
        "    is_prime = True\n",
        "    for j in range(2, i // 2 + 1):\n",
        "        if i % j == 0:\n",
        "            is_prime = False\n",
        "            break\n",
        "    if is_prime:\n",
        "        prime_list.append(i)\n",
        "lst=[]\n",
        "print(prime_list)\n",
        "for p in prime_list:\n",
        "    for q in prime_list:\n",
        "        for r in prime_list:\n",
        "            if p*q*r<=b:\n",
        "                lst.append([p,q,r])\n",
        "\n",
        "print(lst)"
      ],
      "metadata": {
        "colab": {
          "base_uri": "https://localhost:8080/"
        },
        "id": "8ctNyQZPl6jc",
        "outputId": "947fa938-dccd-4cef-9c5f-1a0bc77d3455"
      },
      "execution_count": null,
      "outputs": [
        {
          "output_type": "stream",
          "name": "stdout",
          "text": [
            "[2, 3, 5, 7, 11, 13, 17, 19, 23, 29, 31, 37, 41, 43, 47, 53, 59, 61, 67, 71, 73, 79, 83, 89, 97]\n",
            "[[2, 2, 2], [2, 2, 3], [2, 2, 5], [2, 2, 7], [2, 2, 11], [2, 2, 13], [2, 2, 17], [2, 2, 19], [2, 2, 23], [2, 3, 2], [2, 3, 3], [2, 3, 5], [2, 3, 7], [2, 3, 11], [2, 3, 13], [2, 5, 2], [2, 5, 3], [2, 5, 5], [2, 5, 7], [2, 7, 2], [2, 7, 3], [2, 7, 5], [2, 7, 7], [2, 11, 2], [2, 11, 3], [2, 13, 2], [2, 13, 3], [2, 17, 2], [2, 19, 2], [2, 23, 2], [3, 2, 2], [3, 2, 3], [3, 2, 5], [3, 2, 7], [3, 2, 11], [3, 2, 13], [3, 3, 2], [3, 3, 3], [3, 3, 5], [3, 3, 7], [3, 3, 11], [3, 5, 2], [3, 5, 3], [3, 5, 5], [3, 7, 2], [3, 7, 3], [3, 11, 2], [3, 11, 3], [3, 13, 2], [5, 2, 2], [5, 2, 3], [5, 2, 5], [5, 2, 7], [5, 3, 2], [5, 3, 3], [5, 3, 5], [5, 5, 2], [5, 5, 3], [5, 7, 2], [7, 2, 2], [7, 2, 3], [7, 2, 5], [7, 2, 7], [7, 3, 2], [7, 3, 3], [7, 5, 2], [7, 7, 2], [11, 2, 2], [11, 2, 3], [11, 3, 2], [11, 3, 3], [13, 2, 2], [13, 2, 3], [13, 3, 2], [17, 2, 2], [19, 2, 2], [23, 2, 2]]\n"
          ]
        }
      ]
    },
    {
      "cell_type": "markdown",
      "source": [
        "### `problem:` Write a Python program to find the  palindrome from a given range.\n",
        "\n"
      ],
      "metadata": {
        "id": "XdNH26qEkpaR"
      }
    },
    {
      "cell_type": "code",
      "source": [
        "a=100\n",
        "b=200\n",
        "\n",
        "for i in range (a,b+1):\n",
        "    temp=i\n",
        "    rev=0\n",
        "    while temp>0:\n",
        "        digit= temp%10\n",
        "        rev= rev*10 +digit\n",
        "        temp=temp//10\n",
        "        if rev==i:\n",
        "            print(rev)\n"
      ],
      "metadata": {
        "colab": {
          "base_uri": "https://localhost:8080/"
        },
        "id": "szESSfW9kvZo",
        "outputId": "f7fad587-cfac-4007-803f-85498c929eee"
      },
      "execution_count": null,
      "outputs": [
        {
          "output_type": "stream",
          "name": "stdout",
          "text": [
            "101\n",
            "111\n",
            "121\n",
            "131\n",
            "141\n",
            "151\n",
            "161\n",
            "171\n",
            "181\n",
            "191\n"
          ]
        }
      ]
    },
    {
      "cell_type": "markdown",
      "source": [
        "### 'Problem:' Write a Python program to find the closest palindrome from a given string.\n",
        "\n"
      ],
      "metadata": {
        "id": "nIxhocpZoMU9"
      }
    },
    {
      "cell_type": "code",
      "source": [
        "\n",
        "def find_closest_palindrome(s):\n",
        "    # Check how many characters differ from their corresponding mirrored characters\n",
        "    odd = sum(1 for i in range(len(s)) if s[i] != s[-i-1])\n",
        "\n",
        "    if odd % 2 == 1:\n",
        "        # When the number of differing characters is odd\n",
        "        half = odd // 2\n",
        "        # Create the palindrome by taking characters from the start for the first half\n",
        "        # and mirrored characters for the second half\n",
        "        palindrome = \"\".join(s[i] if i < half else s[-i-1] for i in range(len(s)))\n",
        "    else:\n",
        "        # When the number of differing characters is even\n",
        "        half = odd // 2\n",
        "        # Create the palindrome by taking characters from the start for the first half\n",
        "        # and mirrored characters for the second half\n",
        "        palindrome = \"\".join(s[i] if i <= half else s[-i-1] for i in range(len(s)))\n",
        "\n",
        "    return palindrome\n",
        "\n",
        "\n",
        "s = input(\"Enter a string: \")\n",
        "closest_palindrome = find_closest_palindrome(s)\n",
        "print(\"The closest palindrome is:\", closest_palindrome)\n"
      ],
      "metadata": {
        "colab": {
          "base_uri": "https://localhost:8080/"
        },
        "id": "raWBv15XqrdN",
        "outputId": "db2d298a-07a6-4f07-8b1b-2495fbf99b4e"
      },
      "execution_count": null,
      "outputs": [
        {
          "output_type": "stream",
          "name": "stdout",
          "text": [
            "Enter a string: cat\n",
            "The closest palindrome is: cac\n"
          ]
        }
      ]
    },
    {
      "cell_type": "markdown",
      "source": [
        "### 'Problem:` Write a Python program to find the indices of the closest pair from a list of numbers."
      ],
      "metadata": {
        "id": "4VtASgSLtdYW"
      }
    },
    {
      "cell_type": "code",
      "source": [
        "lst = [1, 7, 9, 2, 10]\n",
        "\n",
        "# Initialize variables to keep track of the minimum difference and the corresponding indices\n",
        "min_diff = float('inf')  # Start with a very large number\n",
        "closest_pair = (None, None)  # To store the indices of the closest pair\n",
        "\n",
        "# Iterate through each pair of elements\n",
        "for i, value1 in enumerate(lst):\n",
        "    for j, value2 in enumerate(lst):\n",
        "        if i != j:\n",
        "            # Calculate the absolute difference in values\n",
        "            current_diff = abs(value1 - value2)\n",
        "            # Update if the current difference is smaller than the previously found minimum difference\n",
        "            if current_diff < min_diff:\n",
        "                min_diff = current_diff\n",
        "                closest_pair = (i, j)\n",
        "\n",
        "# Print results\n",
        "print(\"Indices of the closest pair:\", closest_pair)\n",
        "print(\"Values of the closest pair:\", (lst[closest_pair[0]], lst[closest_pair[1]]))\n",
        "print(\"Difference in values:\", min_diff)\n",
        "\n",
        "\n",
        "\n",
        "\n",
        "\n"
      ],
      "metadata": {
        "colab": {
          "base_uri": "https://localhost:8080/"
        },
        "id": "7TnmgqfOthVT",
        "outputId": "5d0c4e88-3ea5-466f-aac3-cca0d716ca75"
      },
      "execution_count": null,
      "outputs": [
        {
          "output_type": "stream",
          "name": "stdout",
          "text": [
            "Indices of the closest pair: (0, 3)\n",
            "Values of the closest pair: (1, 2)\n",
            "Difference in values: 1\n"
          ]
        }
      ]
    },
    {
      "cell_type": "markdown",
      "source": [
        "### `Problem:` Write a Python program to find the following strange sort of list of numbers: the first element is the smallest, the second is the largest of the remaining, the third is the smallest of the remaining, the fourth is the smallest of the remaining, etc."
      ],
      "metadata": {
        "id": "Njp0LT5YAYjF"
      }
    },
    {
      "cell_type": "code",
      "source": [
        "def test(nums):\n",
        "    if len(nums) < 2:\n",
        "        return nums\n",
        "    result = []\n",
        "    for i in range(len(nums)//2):\n",
        "        result.append(min(nums))\n",
        "        nums.remove(min(nums))\n",
        "        result.append(max(nums))\n",
        "        nums.remove(max(nums))\n",
        "    if len(nums) > 0:\n",
        "        result.append(nums[0])\n",
        "    if len(result) < 2*len(nums):\n",
        "        result.extend(nums[len(result) // 2 + 1:len(result) // 2 + 1 + len(nums) - len(result)])\n",
        "    return result\n",
        "nums = [1, 3, 4, 5, 11]\n",
        "print(test(nums))\n"
      ],
      "metadata": {
        "id": "wefUSQDm2UP2",
        "colab": {
          "base_uri": "https://localhost:8080/"
        },
        "outputId": "c572abe4-8dc0-4824-9d3d-226420633d8b"
      },
      "execution_count": null,
      "outputs": [
        {
          "output_type": "stream",
          "name": "stdout",
          "text": [
            "[1, 11, 3, 5, 4]\n"
          ]
        }
      ]
    },
    {
      "cell_type": "markdown",
      "source": [
        "### `Problem:` Given a string consisting of groups of matched nested parentheses separated by parentheses, write a Python program to compute the depth of each group."
      ],
      "metadata": {
        "id": "Y7bYTg61JOnA"
      }
    },
    {
      "cell_type": "code",
      "source": [
        "pr='(()) (()) () ((()()()))'\n",
        "depth=[]\n",
        "for i in pr.split(\" \"):\n",
        "    depth.append(len(i.split(')')[0]))\n",
        "print(depth)"
      ],
      "metadata": {
        "colab": {
          "base_uri": "https://localhost:8080/"
        },
        "id": "3T6hso52JRg_",
        "outputId": "08722027-bcd3-4836-ee73-ab6664d45e19"
      },
      "execution_count": null,
      "outputs": [
        {
          "output_type": "stream",
          "name": "stdout",
          "text": [
            "[2, 2, 1, 3]\n"
          ]
        }
      ]
    },
    {
      "cell_type": "code",
      "source": [
        "# Number of rows\n",
        "rows = 4\n",
        "\n",
        "# Number of columns\n",
        "columns = 4\n",
        "\n",
        "# Iterate through each row\n",
        "for i in range(rows):\n",
        "    # Iterate through each column\n",
        "    for j in range(columns):\n",
        "        # Print '*' at specific positions\n",
        "        if (i == 0 and (j == 0 or j == 3)) or \\\n",
        "           (i == 1 and (j == 1 or j == 2)) or \\\n",
        "           (i == 2 and (j == 1 or j == 2)) or \\\n",
        "           (i == 3 and (j == 0 or j == 3)):\n",
        "            print('*', end='')\n",
        "        else:\n",
        "            print(' ', end=' ')\n",
        "    # Move to the next line after each row\n",
        "    print()\n",
        "\n"
      ],
      "metadata": {
        "id": "KEoMXBlwNTtg",
        "colab": {
          "base_uri": "https://localhost:8080/"
        },
        "outputId": "4b9494c5-a617-48f7-880d-2ed881b51c8e"
      },
      "execution_count": null,
      "outputs": [
        {
          "output_type": "stream",
          "name": "stdout",
          "text": [
            "*    *\n",
            "  **  \n",
            "  **  \n",
            "*    *\n"
          ]
        }
      ]
    },
    {
      "cell_type": "markdown",
      "source": [
        "\n",
        "```\n",
        "    *\n",
        "   ***\n",
        "  *****\n",
        " *******\n",
        "*********\n",
        "```\n"
      ],
      "metadata": {
        "id": "9OIUEIKy6Igh"
      }
    },
    {
      "cell_type": "code",
      "source": [
        "rows = 5\n",
        "col = 9\n",
        "\n",
        "for i in range(rows):\n",
        "    for j in range(col):\n",
        "        if (i == 0 and j == 4) or \\\n",
        "           (i == 1 and j in (3, 4, 5)) or \\\n",
        "           (i == 2 and j in (2, 3, 4, 5, 6)) or \\\n",
        "           (i == 3 and j in (1, 2, 3, 4, 5, 6, 7)) or \\\n",
        "           (i == 4 and j in (0, 1, 2, 3, 4, 5, 6, 7, 8)):\n",
        "            print('*', end=' ')\n",
        "        else:\n",
        "            print(' ', end=' ')\n",
        "    print()\n",
        "\n"
      ],
      "metadata": {
        "colab": {
          "base_uri": "https://localhost:8080/"
        },
        "id": "KUWEeSSc5_bM",
        "outputId": "698e9c3b-d57f-4416-9cea-fec62eeb4b8a"
      },
      "execution_count": null,
      "outputs": [
        {
          "output_type": "stream",
          "name": "stdout",
          "text": [
            "        *         \n",
            "      * * *       \n",
            "    * * * * *     \n",
            "  * * * * * * *   \n",
            "* * * * * * * * * \n"
          ]
        }
      ]
    },
    {
      "cell_type": "code",
      "source": [
        "def create_palindrome_name(parent1, parent2):\n",
        "    # Convert names to lower case to ensure uniformity\n",
        "    parent1 = parent1.lower()\n",
        "    parent2 = parent2.lower()\n",
        "\n",
        "    # Find the half-length of the shorter parent name\n",
        "    min_len = min(len(parent1), len(parent2))\n",
        "    half_len = min_len // 2\n",
        "\n",
        "    # Create the palindrome by taking half of parent1's name\n",
        "    # and reversing it, then combining with the corresponding part of parent2's name\n",
        "    part1 = parent1[:half_len]\n",
        "    part2 = parent2[:half_len][::-1]\n",
        "\n",
        "    # Construct the palindrome name\n",
        "    palindrome_name = part1 + part2 + part1[::-1]\n",
        "\n",
        "    return palindrome_name.capitalize()\n",
        "\n",
        "# Example usage\n",
        "parent1 = input(\"Enter the first name of parent 1: \")\n",
        "parent2 = input(\"Enter the first name of parent 2: \")\n",
        "\n",
        "child_name = create_palindrome_name(parent1, parent2)\n",
        "print(\"The child's palindrome name is:\", child_name)\n",
        "\n"
      ],
      "metadata": {
        "colab": {
          "base_uri": "https://localhost:8080/"
        },
        "id": "_SlO0K2ttrMN",
        "outputId": "4b0addcf-ba4c-46d7-9760-906763c4869d"
      },
      "execution_count": null,
      "outputs": [
        {
          "output_type": "stream",
          "name": "stdout",
          "text": [
            "Enter the first name of parent 1: santosh\n",
            "Enter the first name of parent 2: uma\n",
            "The child's palindrome name is: Sus\n"
          ]
        }
      ]
    },
    {
      "cell_type": "code",
      "source": [
        "def count_substring(string, sub_string):\n",
        "    count = 0\n",
        "    sub_len = len(sub_string)\n",
        "\n",
        "    # Loop through the string and check for the substring at each position\n",
        "    for i in range(len(string) - sub_len + 1):\n",
        "        if string[i:i + sub_len] == sub_string:\n",
        "            count += 1\n",
        "\n",
        "    return count\n",
        "\n",
        "# Test the function\n",
        "print(count_substring('ABCDCDC', 'CDCDC'))\n"
      ],
      "metadata": {
        "colab": {
          "base_uri": "https://localhost:8080/"
        },
        "id": "8M77UnzhDmfV",
        "outputId": "175a9199-42dc-40d5-8179-2a11844fc656"
      },
      "execution_count": null,
      "outputs": [
        {
          "output_type": "execute_result",
          "data": {
            "text/plain": [
              "1"
            ]
          },
          "metadata": {},
          "execution_count": 8
        }
      ]
    },
    {
      "cell_type": "markdown",
      "source": [
        "###Write a program to check the string is palindrome"
      ],
      "metadata": {
        "id": "zGbSI4mi1F3P"
      }
    },
    {
      "cell_type": "code",
      "source": [
        "string = \"A man, a plan, a canal, Panama!\"\n",
        "l = ''.join(filter(str.isalnum, string)).lower()\n",
        "\n",
        "is_palindrome = True  # Initialize the variable to True\n",
        "for i in range(len(l) // 2):\n",
        "    if l[i] != l[-(i + 1)]:\n",
        "        is_palindrome = False\n",
        "        break\n",
        "\n",
        "print(is_palindrome)  # Output: True\n",
        "\n"
      ],
      "metadata": {
        "colab": {
          "base_uri": "https://localhost:8080/"
        },
        "id": "C2KWVknPDsut",
        "outputId": "439c1e18-4333-4312-a8a9-72d19dc7df8d"
      },
      "execution_count": null,
      "outputs": [
        {
          "output_type": "stream",
          "name": "stdout",
          "text": [
            "True\n"
          ]
        }
      ]
    },
    {
      "cell_type": "markdown",
      "source": [
        "### **Problem:** Given an array of size n-1 such that it only contains distinct integers in the range of 1 to n. Return the missing element."
      ],
      "metadata": {
        "id": "CpOz7Y5FBCkL"
      }
    },
    {
      "cell_type": "code",
      "source": [
        "arr=[1,2,3,4,5,6,7,9,10]\n",
        "n=10\n",
        "total_sum= n * (n+1)//2\n",
        "missing_element= total_sum - sum(arr)\n",
        "missing_element\n"
      ],
      "metadata": {
        "colab": {
          "base_uri": "https://localhost:8080/"
        },
        "id": "-hEagzNhBB5Q",
        "outputId": "b8eb8b79-7878-4021-ea39-6dfcacdcf6de"
      },
      "execution_count": null,
      "outputs": [
        {
          "output_type": "execute_result",
          "data": {
            "text/plain": [
              "8"
            ]
          },
          "metadata": {},
          "execution_count": 32
        }
      ]
    },
    {
      "cell_type": "markdown",
      "source": [
        "### **Problem:** Given an array arr of size n which contains elements in range from 0 to n-1, you need to find all the elements occurring more than once in the given array. Return the answer in ascending order. If no such element is found, return list containing [-1].\n",
        "\n",
        "Note: Try and perform all operations within the provided array. The extra (non-constant) ) space needs to be used only for the array to be returned."
      ],
      "metadata": {
        "id": "-t4tpGK-TO2B"
      }
    },
    {
      "cell_type": "code",
      "source": [
        "def find_duplicates(arr, n):\n",
        "    # Dictionary to store the count of each element\n",
        "    count_dict = {}\n",
        "\n",
        "    # Traverse the array to count occurrences\n",
        "    for num in arr:\n",
        "        if num in count_dict:\n",
        "            count_dict[num] += 1\n",
        "        else:\n",
        "            count_dict[num] = 1\n",
        "\n",
        "    # Collect the elements that occur more than once\n",
        "    result = [key for key, value in count_dict.items() if value > 1]\n",
        "\n",
        "    # Return the result in ascending order or [-1] if no duplicates\n",
        "    if not result:\n",
        "        return [-1]\n",
        "\n",
        "    return sorted(result)\n",
        "\n",
        "# Example usage:\n",
        "arr1 = [0, 3, 1, 2]  # Example array\n",
        "n1 = 4  # Size of the array\n",
        "print(find_duplicates(arr1, n1))  # Output: [-1]\n",
        "\n",
        "arr2 = [2, 3, 1, 2, 3]  # Example array\n",
        "n2 = 5  # Size of the array\n",
        "print(find_duplicates(arr2, n2))  # Output: [2, 3]\n",
        "\n",
        "\n"
      ],
      "metadata": {
        "colab": {
          "base_uri": "https://localhost:8080/"
        },
        "id": "FVRQ1PijDb0_",
        "outputId": "b2f7b27b-5179-4241-a95f-1a5eaf189fa0"
      },
      "execution_count": null,
      "outputs": [
        {
          "output_type": "stream",
          "name": "stdout",
          "text": [
            "[-1]\n",
            "[2, 3]\n"
          ]
        }
      ]
    },
    {
      "cell_type": "markdown",
      "source": [
        "### **Problem** Given an array arr of n positive integers, your task is to find all the leaders in the array. An element of the array is considered a leader if it is greater than all the elements on its right side or if it is equal to the maximum element on its right side. The rightmost element is always a leader.\n",
        "\n"
      ],
      "metadata": {
        "id": "WjkYcY47at3r"
      }
    },
    {
      "cell_type": "code",
      "source": [
        "class Solution:\n",
        "    # Function to find the leaders in the array.\n",
        "    def leaders(self, arr, n):\n",
        "        leader = []\n",
        "        right_most = arr[-1]\n",
        "        leader.append(right_most)\n",
        "\n",
        "        # Traverse the array from right to left\n",
        "        for i in range(n-2, -1, -1):\n",
        "            if arr[i] >= right_most:\n",
        "                right_most = arr[i]\n",
        "                leader.append(arr[i])\n",
        "\n",
        "        # Reverse the leader list to get the correct order\n",
        "        leader.reverse()\n",
        "\n",
        "        return leader\n",
        "\n",
        "# Example usage:\n",
        "if __name__ == \"__main__\":\n",
        "    solution = Solution()\n",
        "\n",
        "    arr1 = [16, 17, 4, 3, 5, 2]  # Example array\n",
        "    n1 = len(arr1)  # Size of the array\n",
        "    print(*solution.leaders(arr1, n1))  # Output: 17 5 2\n",
        "\n",
        "    arr2 = [10, 4, 2, 4, 1]  # Example array\n",
        "    n2 = len(arr2)  # Size of the array\n",
        "    print(*solution.leaders(arr2, n2))  # Output: 10 4 4 1\n",
        "\n"
      ],
      "metadata": {
        "colab": {
          "base_uri": "https://localhost:8080/"
        },
        "id": "OjkA3nesgAix",
        "outputId": "6c9d7a9e-2d0e-4ec5-8368-f75dd645fef5"
      },
      "execution_count": null,
      "outputs": [
        {
          "output_type": "stream",
          "name": "stdout",
          "text": [
            "17 5 2\n",
            "10 4 4 1\n"
          ]
        }
      ]
    },
    {
      "cell_type": "markdown",
      "source": [
        "### **Problem:** Given an array arr, return the second largest distinct element from an array. If the second largest element doesn't exist then return -1."
      ],
      "metadata": {
        "id": "-8FNHtn3gRvz"
      }
    },
    {
      "cell_type": "code",
      "source": [
        "class Solution:\n",
        "    # Method to find the second largest element in an array\n",
        "    def find_second_largest(self, arr):\n",
        "        # Initialize largest and second largest to negative infinity\n",
        "        largest = -float(\"inf\")\n",
        "        second_largest = -float(\"inf\")\n",
        "\n",
        "        # Traverse the array\n",
        "        for i in arr:\n",
        "            if i > largest:\n",
        "                # Update second largest before updating largest\n",
        "                second_largest = largest\n",
        "                largest = i\n",
        "            elif i > second_largest and i != largest:\n",
        "                second_largest = i\n",
        "\n",
        "        # Return the second largest element, or a message if it doesn't exist\n",
        "        if second_largest == -float(\"inf\"):\n",
        "            return \"No second largest element\"\n",
        "        else:\n",
        "            return second_largest\n",
        "\n",
        "# Example usage\n",
        "if __name__ == \"__main__\":\n",
        "    solution = Solution()\n",
        "\n",
        "    arr = [12, 1, 35, 10, 38, 1]\n",
        "    print(\"Second largest:\", solution.find_second_largest(arr))\n"
      ],
      "metadata": {
        "colab": {
          "base_uri": "https://localhost:8080/"
        },
        "id": "BJQhcYvglbIu",
        "outputId": "1027c076-c77f-444e-e008-f5c03a01de5c"
      },
      "execution_count": null,
      "outputs": [
        {
          "output_type": "stream",
          "name": "stdout",
          "text": [
            "Second largest: 35\n"
          ]
        }
      ]
    },
    {
      "cell_type": "markdown",
      "source": [
        "### **Problem:** Given an array arr of non-negative numbers. The task is to find the first equilibrium point in an array. The equilibrium point in an array is an index (or position) such that the sum of all elements before that index is the same as the sum of elements after it.\n",
        "\n",
        "Note: Return equilibrium point in 1-based indexing. Return -1 if no such point exists."
      ],
      "metadata": {
        "id": "LxOA-FSLmASP"
      }
    },
    {
      "cell_type": "code",
      "source": [
        "class Solution:\n",
        "    # Function to find the first equilibrium point in the array\n",
        "    def find_equilibrium(self, arr):\n",
        "        total_sum = sum(arr)  # Compute the total sum of the array\n",
        "        left_sum = 0  # Initialize the left sum\n",
        "\n",
        "        # Traverse the array to find the equilibrium point\n",
        "        for i in range(len(arr)):\n",
        "            # Calculate right sum\n",
        "            right_sum = total_sum - left_sum - arr[i]\n",
        "\n",
        "            # Check if left sum equals right sum\n",
        "            if left_sum == right_sum:\n",
        "                return i + 1  # Return 1-based index\n",
        "\n",
        "            # Update left sum for the next index\n",
        "            left_sum += arr[i]\n",
        "\n",
        "        return -1  # Return -1 if no equilibrium point is found\n",
        "\n",
        "# Example usage\n",
        "if __name__ == \"__main__\":\n",
        "    solution = Solution()\n",
        "\n",
        "    arr = [1, 3, 5, 2, 2]\n",
        "    result = solution.find_equilibrium(arr)\n",
        "    print(result)  # Output will be 3, as index 2 (1-based) is the equilibrium point\n",
        "\n"
      ],
      "metadata": {
        "colab": {
          "base_uri": "https://localhost:8080/"
        },
        "id": "sF1lX_sMmF-d",
        "outputId": "ba82b7bc-a234-4474-e334-226de08299b6"
      },
      "execution_count": null,
      "outputs": [
        {
          "output_type": "stream",
          "name": "stdout",
          "text": [
            "3\n"
          ]
        }
      ]
    },
    {
      "cell_type": "markdown",
      "source": [
        "### Write a Python program to find the indices of the closest pair from a list of numbers.\n",
        "\n",
        "\n",
        "\n",
        "\n",
        "\n"
      ],
      "metadata": {
        "id": "vd6xT6HXRDwB"
      }
    },
    {
      "cell_type": "code",
      "source": [
        "def find_closest_pair_indices(nums):\n",
        "    if len(nums) < 2:\n",
        "        raise ValueError(\"List must contain at least two elements\")\n",
        "\n",
        "    # Create a list of tuples (value, index) and sort it by value\n",
        "    sorted_nums = sorted((num, index) for index, num in enumerate(nums))\n",
        "\n",
        "    min_diff = float('inf')\n",
        "    closest_pair_indices = (-1, -1)\n",
        "\n",
        "    # Check the difference between consecutive elements in the sorted list\n",
        "    for i in range(len(sorted_nums) - 1):\n",
        "        diff = abs(sorted_nums[i][0] - sorted_nums[i + 1][0])\n",
        "        if diff < min_diff:\n",
        "            min_diff = diff\n",
        "            closest_pair_indices = (sorted_nums[i][1], sorted_nums[i + 1][1])\n",
        "\n",
        "    return closest_pair_indices\n",
        "\n",
        "# Example usage\n",
        "nums = [1, 7, 9, 2, 10]\n",
        "indices = find_closest_pair_indices(nums)\n",
        "print(f\"The indices of the closest pair are: {indices}\")\n"
      ],
      "metadata": {
        "id": "FOSb7VCsmoE8",
        "colab": {
          "base_uri": "https://localhost:8080/"
        },
        "outputId": "4ac4a7bd-6443-45d8-83e2-070c68d2848c"
      },
      "execution_count": null,
      "outputs": [
        {
          "output_type": "stream",
          "name": "stdout",
          "text": [
            "The indices of the closest pair are: (0, 3)\n"
          ]
        }
      ]
    },
    {
      "cell_type": "code",
      "source": [
        "tupl=[]\n",
        "arr=[1, 7, 9, 2, 10]\n",
        "for i,j in enumerate(arr):\n",
        "  tupl.append((j,i))\n",
        "srt=sorted(tupl)\n",
        "\n",
        "min_diff= float(\"inf\")\n",
        "index1,index2=-1,-1\n",
        "for num in range(len(srt)-1):\n",
        "  diff=abs(srt[num][0]- srt[num+1][0])\n",
        "  if diff< min_diff:\n",
        "    min_diff= diff\n",
        "    index1,index2= srt[num][1],srt[num+1][1]\n",
        "\n",
        "print(index1,index2)"
      ],
      "metadata": {
        "colab": {
          "base_uri": "https://localhost:8080/"
        },
        "id": "p2smV1mwAG6Z",
        "outputId": "12875d45-aa20-42b9-b9a9-e3066781d9da"
      },
      "execution_count": null,
      "outputs": [
        {
          "output_type": "stream",
          "name": "stdout",
          "text": [
            "0 3\n"
          ]
        }
      ]
    },
    {
      "cell_type": "markdown",
      "source": [
        "###Write a Python program to find the following strange sort of list of numbers: the first element is the smallest, the second is the largest of the remaining, the third is the smallest of the remaining, the fourth is the smallest of the remaining, etc."
      ],
      "metadata": {
        "id": "cRCigGrAExJB"
      }
    },
    {
      "cell_type": "code",
      "source": [
        "arr=[2, 3, 4, 5, 11]\n",
        "lst=[]\n",
        "while arr:\n",
        "  smallest= float(\"inf\")\n",
        "  largest= -float(\"inf\")\n",
        "\n",
        "  for i in arr:\n",
        "    if i< smallest:\n",
        "      smallest=i\n",
        "    if i>largest:\n",
        "      largest=i\n",
        "\n",
        "  lst.append(smallest)\n",
        "  arr.remove(smallest)\n",
        "  if smallest != largest:\n",
        "        lst.append(largest)\n",
        "        arr.remove(largest)\n",
        "\n",
        "\n",
        "print(lst,arr)\n",
        "\n",
        "\n"
      ],
      "metadata": {
        "colab": {
          "base_uri": "https://localhost:8080/"
        },
        "id": "6u8ZfwUSDDsi",
        "outputId": "200fd634-b3a8-47a9-a89d-2540bef19d7f"
      },
      "execution_count": null,
      "outputs": [
        {
          "output_type": "stream",
          "name": "stdout",
          "text": [
            "[2, 11, 3, 5, 4] []\n"
          ]
        }
      ]
    },
    {
      "cell_type": "markdown",
      "source": [
        "###Write a Python program to decode a message for security officials by removing the characters which have odd index values of a given string."
      ],
      "metadata": {
        "id": "SDrTrZUXJNe1"
      }
    },
    {
      "cell_type": "code",
      "source": [
        "s=\"data science\"\n",
        "\n",
        "for i in range(0,len(s)):\n",
        "  if i%2==0:\n",
        "    print( s[i], end=\" \")"
      ],
      "metadata": {
        "colab": {
          "base_uri": "https://localhost:8080/"
        },
        "id": "dkV7UTMnJO8T",
        "outputId": "ddca808f-5633-4db0-e61d-8081b69f678e"
      },
      "execution_count": null,
      "outputs": [
        {
          "output_type": "stream",
          "name": "stdout",
          "text": [
            "d t   c e c "
          ]
        }
      ]
    },
    {
      "cell_type": "markdown",
      "source": [
        "###Help Sunny to bulid a digital calendar by writing a Python program to convert month name to a number of days."
      ],
      "metadata": {
        "id": "9Q8CA2uYKFKm"
      }
    },
    {
      "cell_type": "code",
      "source": [
        "\n",
        "month_name = input().title()\n",
        "\n",
        "if month_name == \"February\":\n",
        "        print(\"No. of days: 28/29 days\")\n",
        "elif month_name in (\"April\", \"June\", \"September\", \"November\"):\n",
        "        print(\"No. of days: 30 days\")\n",
        "elif month_name in (\"January\", \"March\", \"May\", \"July\", \"August\", \"October\", \"December\"):\n",
        "        print(\"No. of days: 31 days\")\n",
        "else:\n",
        "        print(\"Wrong month name\")\n"
      ],
      "metadata": {
        "colab": {
          "base_uri": "https://localhost:8080/"
        },
        "id": "EFcAl-fhJ3Jz",
        "outputId": "d416a764-1904-4ef4-f58f-a06b25d95e27"
      },
      "execution_count": null,
      "outputs": [
        {
          "output_type": "stream",
          "name": "stdout",
          "text": [
            "SEPTEMBER\n",
            "No. of days: 30 days\n"
          ]
        }
      ]
    },
    {
      "cell_type": "markdown",
      "source": [
        "###Write a Python program to help Mark to complete his homework wherein he has to find the area of circle with given radius and round off to 4 decimal places.\n",
        "\n",
        "- Area of a Circle\n",
        ":In geometry, the area enclosed by a circle of radius r is πr2. Here the Greek letter π represents a constant, approximately equal to 3.14159, which is equal to the ratio of the circumference of any circle to its diameter."
      ],
      "metadata": {
        "id": "YvtsIwSmK4_i"
      }
    },
    {
      "cell_type": "code",
      "source": [
        "def AreaCircle(radius):\n",
        "  area= 3.14159 * (radius**2)\n",
        "  return round(area,4)\n",
        "AreaCircle(1.1)"
      ],
      "metadata": {
        "colab": {
          "base_uri": "https://localhost:8080/"
        },
        "id": "EFO81882LFre",
        "outputId": "dee1415e-8f6b-4ade-da68-ef64e621b168"
      },
      "execution_count": null,
      "outputs": [
        {
          "output_type": "execute_result",
          "data": {
            "text/plain": [
              "3.8013"
            ]
          },
          "metadata": {},
          "execution_count": 53
        }
      ]
    },
    {
      "cell_type": "markdown",
      "source": [
        "###In a job interview, Mihir was asked to find count of all contiguous substrings starting and ending with same character, for a given string S. After an interview, he wrote the recursive python program to check the answer."
      ],
      "metadata": {
        "id": "goxsrLLlM6eE"
      }
    },
    {
      "cell_type": "code",
      "source": [
        "s = \"abcab\"\n",
        "\n",
        "for i in range(len(s)):\n",
        "    for j in range(i + 1, len(s) + 1):\n",
        "      if s[i:j][0]==s[i:j][-1]:\n",
        "        print(s[i:j])\n"
      ],
      "metadata": {
        "colab": {
          "base_uri": "https://localhost:8080/"
        },
        "id": "3Kz2h0O1M8dJ",
        "outputId": "8676493b-99f4-4db8-c8cd-f6df9b2f3511"
      },
      "execution_count": null,
      "outputs": [
        {
          "output_type": "stream",
          "name": "stdout",
          "text": [
            "a\n",
            "abca\n",
            "b\n",
            "bcab\n",
            "c\n",
            "a\n",
            "b\n"
          ]
        }
      ]
    },
    {
      "cell_type": "markdown",
      "source": [
        "###Write a Python program to create a lambda function that adds 15 to a given number passed in as an argument, also create a lambda function that multiplies argument x with argument y and print the result."
      ],
      "metadata": {
        "id": "eobBQfaaOyjX"
      }
    },
    {
      "cell_type": "code",
      "source": [
        "# Define the lambda function\n",
        "add_15 = lambda x: x + 15\n",
        "\n",
        "# Use the lambda function with the value of n\n",
        "n = 15\n",
        "result = add_15(n)\n",
        "\n",
        "print(result)  # Output will be 30\n"
      ],
      "metadata": {
        "colab": {
          "base_uri": "https://localhost:8080/"
        },
        "id": "9n47_SECO0ZZ",
        "outputId": "ea712434-d1e7-4695-a4ed-ee51beadb2b7"
      },
      "execution_count": null,
      "outputs": [
        {
          "output_type": "stream",
          "name": "stdout",
          "text": [
            "30\n"
          ]
        }
      ]
    },
    {
      "cell_type": "code",
      "source": [
        "multiply= lambda x,y: x*y\n",
        "n1=12\n",
        "n2=4\n",
        "multiply(n1,n2)"
      ],
      "metadata": {
        "colab": {
          "base_uri": "https://localhost:8080/"
        },
        "id": "f_iAnxgsPc_S",
        "outputId": "b8d6fb5c-0d07-4975-ec8d-4a1c06b16de1"
      },
      "execution_count": null,
      "outputs": [
        {
          "output_type": "execute_result",
          "data": {
            "text/plain": [
              "48"
            ]
          },
          "metadata": {},
          "execution_count": 62
        }
      ]
    },
    {
      "cell_type": "markdown",
      "source": [
        "###Write a Python program to find the string consisting of all the words whose lengths are prime numbers."
      ],
      "metadata": {
        "id": "LZtmkSEvTSBK"
      }
    },
    {
      "cell_type": "code",
      "source": [
        "s=\"The quick brown fox jumps over the lazy dog.\"\n",
        "lst=s.split(\" \")\n",
        "\n",
        "for i in lst:\n",
        "  prime=True\n",
        "  for j in range(2,len(i)):\n",
        "    if len(i)%j==0:\n",
        "      prime=False\n",
        "      break\n",
        "\n",
        "  if prime:\n",
        "    print(i,end=\" \")"
      ],
      "metadata": {
        "colab": {
          "base_uri": "https://localhost:8080/"
        },
        "id": "KGpXqh-CTTy2",
        "outputId": "4c8d508d-8a3e-4ce1-dd90-9dbc4a4b6e72"
      },
      "execution_count": null,
      "outputs": [
        {
          "output_type": "stream",
          "name": "stdout",
          "text": [
            "The quick brown fox jumps the "
          ]
        }
      ]
    },
    {
      "cell_type": "code",
      "source": [
        "\n",
        "for i in range(2, 10):\n",
        "    prime = True\n",
        "    for j in range(2, i):\n",
        "        if i % j == 0:\n",
        "            prime = False\n",
        "            break\n",
        "    if prime:\n",
        "        print(i)\n",
        "\n"
      ],
      "metadata": {
        "colab": {
          "base_uri": "https://localhost:8080/"
        },
        "id": "EHwHgcISUh-d",
        "outputId": "a0c89e92-645d-4004-9886-5d4d2566467f"
      },
      "execution_count": null,
      "outputs": [
        {
          "output_type": "stream",
          "name": "stdout",
          "text": [
            "2\n",
            "3\n",
            "5\n",
            "7\n"
          ]
        }
      ]
    },
    {
      "cell_type": "markdown",
      "source": [
        "###In a maths competition, the Armstrong award would be presented to the one who would first tell the Armstrong number among all given numbers. Thus, write a program for Sam in Python to help him won the award.\n",
        "\n",
        "####What is Armstrong Number?\n",
        "\n",
        "- It is a number which is equal to the sum of cube of its digits. For eg: 153, 370 etc."
      ],
      "metadata": {
        "id": "ot3kGCZWYLsY"
      }
    },
    {
      "cell_type": "code",
      "source": [
        "n=153\n",
        "temp=n\n",
        "sum_cube=0\n",
        "while temp>0:\n",
        "  digit= temp%10\n",
        "  sum_cube+=digit**3\n",
        "  temp=temp//10\n",
        "if n== sum_cube:\n",
        "    print(sum_cube)\n"
      ],
      "metadata": {
        "colab": {
          "base_uri": "https://localhost:8080/"
        },
        "id": "lfvvk6UKYQvr",
        "outputId": "5664de28-be14-4dfc-a030-9f374e964400"
      },
      "execution_count": null,
      "outputs": [
        {
          "output_type": "stream",
          "name": "stdout",
          "text": [
            "153\n"
          ]
        }
      ]
    },
    {
      "cell_type": "markdown",
      "source": [
        "###Write a Python program to print all even numbers from a given list of numbers in the same order and stop printing any after 237 in the sequence."
      ],
      "metadata": {
        "id": "ky2w5etYazQu"
      }
    },
    {
      "cell_type": "code",
      "source": [
        "lst=[386, 462, 47, 418, 907, 344, 236, 375, 823, 566, 597, 978, 328, 615, 953, 345, 399, 162, 758,\n",
        "     219, 918, 237, 412, 566, 826, 248, 866, 950, 626, 949, 687, 217, 815,\n",
        "     67, 104, 58, 512, 24, 892, 894, 767, 553, 81, 379, 843, 831, 445, 742, 717, 958,743, 527]\n",
        "\n",
        "for i in lst:\n",
        "  if i==237:\n",
        "    print(i)\n",
        "    breaki\n",
        "  elif i%2==0:\n",
        "    print(i,end=\" \")\n",
        "\n"
      ],
      "metadata": {
        "colab": {
          "base_uri": "https://localhost:8080/"
        },
        "id": "rvk0egnAa16C",
        "outputId": "e084b579-170c-4f29-c804-8efd3c0feae8"
      },
      "execution_count": null,
      "outputs": [
        {
          "output_type": "stream",
          "name": "stdout",
          "text": [
            "386 462 418 344 236 566 978 328 162 758 918 237\n"
          ]
        }
      ]
    },
    {
      "cell_type": "markdown",
      "source": [
        "###Write a Python program to count the number 4 in a given list.\n",
        "\n"
      ],
      "metadata": {
        "id": "jRsQkmNw0YOl"
      }
    },
    {
      "cell_type": "code",
      "source": [
        "l = [1, 4, 6, 7, 4]\n",
        "count = {}\n",
        "\n",
        "for i in l:\n",
        "    if i in count:\n",
        "        count[i] += 1\n",
        "    else:\n",
        "        count[i] = 1\n",
        "\n",
        "print(count)\n"
      ],
      "metadata": {
        "colab": {
          "base_uri": "https://localhost:8080/"
        },
        "id": "E4zNarMv0aoD",
        "outputId": "dfa8a20f-2653-484e-afa9-1df64a955ce2"
      },
      "execution_count": null,
      "outputs": [
        {
          "output_type": "stream",
          "name": "stdout",
          "text": [
            "{1: 1, 4: 2, 6: 1, 7: 1}\n"
          ]
        }
      ]
    },
    {
      "cell_type": "code",
      "source": [
        "l.count(4)"
      ],
      "metadata": {
        "colab": {
          "base_uri": "https://localhost:8080/"
        },
        "id": "KTelCVPm1ec3",
        "outputId": "783080c8-73dc-4dc0-b96f-107db6bc7bba"
      },
      "execution_count": null,
      "outputs": [
        {
          "output_type": "execute_result",
          "data": {
            "text/plain": [
              "2"
            ]
          },
          "metadata": {},
          "execution_count": 106
        }
      ]
    },
    {
      "cell_type": "markdown",
      "source": [
        "###Write a Python program to sum all the items in a list.\n",
        "\n"
      ],
      "metadata": {
        "id": "5rjomZo72fi5"
      }
    },
    {
      "cell_type": "code",
      "source": [
        "l= [1,2,-8]\n",
        "\n",
        "sum=0\n",
        "for i in l:\n",
        "  sum+=i\n",
        "print(sum)\n",
        "\n"
      ],
      "metadata": {
        "colab": {
          "base_uri": "https://localhost:8080/"
        },
        "id": "RBvEOel82iSm",
        "outputId": "ddfdcc9c-b5ec-4b5e-9587-ed302296a40a"
      },
      "execution_count": null,
      "outputs": [
        {
          "output_type": "stream",
          "name": "stdout",
          "text": [
            "-5\n"
          ]
        }
      ]
    },
    {
      "cell_type": "markdown",
      "source": [
        "###Write a Python program that checks whether every even index contains an even number and every odd index contains an odd number of a given list."
      ],
      "metadata": {
        "id": "deCEvbun3L9k"
      }
    },
    {
      "cell_type": "code",
      "source": [
        "arr=[2, 1, 4, 3, 6, 7, 6, 3]\n",
        "flag=True\n",
        "for i in range(len(arr)):\n",
        "  if arr[i]%2!= i%2:\n",
        "    flag=False\n",
        "\n",
        "if flag:\n",
        "  print(True)\n",
        "else:\n",
        "  print(False)"
      ],
      "metadata": {
        "colab": {
          "base_uri": "https://localhost:8080/"
        },
        "id": "sCmhkCar3OO_",
        "outputId": "29a4918c-2993-4c56-b642-9fa74e1995b7"
      },
      "execution_count": null,
      "outputs": [
        {
          "output_type": "stream",
          "name": "stdout",
          "text": [
            "True\n"
          ]
        }
      ]
    },
    {
      "cell_type": "markdown",
      "source": [
        "###Write a Python program to compute the cumulative sum of numbers in a given list. Note: Cumulative sum = sum of itself + all previous numbers in the said list."
      ],
      "metadata": {
        "id": "4LwKnxRgKohx"
      }
    },
    {
      "cell_type": "code",
      "source": [
        "arr=[10, 20, 30, 40, 50, 60, 7]\n",
        "\n",
        "cum_sum=0\n",
        "for i in arr:\n",
        "  cum_sum+=i\n",
        "  print(cum_sum,end=\" \")"
      ],
      "metadata": {
        "colab": {
          "base_uri": "https://localhost:8080/"
        },
        "id": "Oz6jzynoKqBk",
        "outputId": "b6634964-f76b-4073-80e1-d612676e9bf3"
      },
      "execution_count": null,
      "outputs": [
        {
          "output_type": "stream",
          "name": "stdout",
          "text": [
            "10 30 60 100 150 210 217 "
          ]
        }
      ]
    },
    {
      "cell_type": "markdown",
      "source": [
        "###Write a Python program to calculate the difference between the two lists.\n",
        "\n"
      ],
      "metadata": {
        "id": "8BiIIc1hLEc0"
      }
    },
    {
      "cell_type": "code",
      "source": [
        "arr1=[1, 3, 5, 7, 9]\n",
        "arr2=[1, 2, 4, 6, 7, 8]\n",
        "\n",
        "diff1=set(arr1)-(set(arr2))\n",
        "diff2=set(arr2)-(set(arr1))\n",
        "\n",
        "list(diif1)+ list(diff2)"
      ],
      "metadata": {
        "colab": {
          "base_uri": "https://localhost:8080/"
        },
        "id": "CCvTZlpbLFye",
        "outputId": "46f32441-a351-4b8a-a23d-73de1ac2d2b6"
      },
      "execution_count": null,
      "outputs": [
        {
          "output_type": "execute_result",
          "data": {
            "text/plain": [
              "[9, 3, 5, 8, 2, 4, 6]"
            ]
          },
          "metadata": {},
          "execution_count": 128
        }
      ]
    },
    {
      "cell_type": "markdown",
      "source": [
        "###Given a list of numbers and a number k, write a Python program to check whether the sum of any two numbers from the list is equal to k or not. For example, given [1, 5, 11, 5] and k = 16, return true since 11 + 5 is 16.\n",
        "\n"
      ],
      "metadata": {
        "id": "DhWrw7RNMgxc"
      }
    },
    {
      "cell_type": "code",
      "source": [
        "arr=[12, 5, 0, 5]\n",
        "k=10\n",
        "flag=False\n",
        "for i in range(len(arr)):\n",
        "  for j in range(i+1,len(arr)):\n",
        "    if (arr[i]+arr[j])==k:\n",
        "      print(i,j)\n",
        "      flag=True\n",
        "      break\n",
        "if flag:\n",
        "  print(True)\n",
        "else:\n",
        "  print(False)\n",
        "\n"
      ],
      "metadata": {
        "colab": {
          "base_uri": "https://localhost:8080/"
        },
        "id": "oqRSXzo1MkPR",
        "outputId": "619334a9-b95e-4561-b8a5-0f9c39166b70"
      },
      "execution_count": null,
      "outputs": [
        {
          "output_type": "stream",
          "name": "stdout",
          "text": [
            "1 3\n",
            "True\n"
          ]
        }
      ]
    },
    {
      "cell_type": "markdown",
      "source": [
        "###Write a Python program to compute the product of a list of integers (without using a for loop)."
      ],
      "metadata": {
        "id": "NnDI_UlSQ0X3"
      }
    },
    {
      "cell_type": "code",
      "source": [
        "from functools import reduce\n",
        "nums = [10, 20, 30]\n",
        "nums_product = reduce( (lambda x, y: x * y), nums)\n",
        "print(nums_product)"
      ],
      "metadata": {
        "colab": {
          "base_uri": "https://localhost:8080/"
        },
        "id": "hr1isaq0Q1_l",
        "outputId": "956254eb-232a-43bf-df74-5d4dc7ef821b"
      },
      "execution_count": null,
      "outputs": [
        {
          "output_type": "stream",
          "name": "stdout",
          "text": [
            "6000\n"
          ]
        }
      ]
    },
    {
      "cell_type": "markdown",
      "source": [
        "###Write a Python program to calculate the median from a list of numbers.\n",
        "\n"
      ],
      "metadata": {
        "id": "BdRTtwi_aNh4"
      }
    },
    {
      "cell_type": "code",
      "source": [
        "arr=[1,2,3,4,5]\n",
        "\n",
        "arr=sorted(arr)\n",
        "m=len(arr)//2\n",
        "if len(arr)%2==0:\n",
        "  print((arr[m - 1] + arr[m]) / 2)\n",
        "else:\n",
        "  print(arr[m])\n",
        "\n",
        "\n",
        "\n"
      ],
      "metadata": {
        "colab": {
          "base_uri": "https://localhost:8080/"
        },
        "id": "zz2zELwWaOwp",
        "outputId": "03f4da53-07e6-4945-a090-a924f56d12ec"
      },
      "execution_count": null,
      "outputs": [
        {
          "output_type": "stream",
          "name": "stdout",
          "text": [
            "3\n"
          ]
        }
      ]
    },
    {
      "cell_type": "markdown",
      "source": [
        "###Write a Python program to find the biggest even number between two numbers inclusive."
      ],
      "metadata": {
        "id": "rYPGHqprX24x"
      }
    },
    {
      "cell_type": "code",
      "source": [
        "a=12\n",
        "b=99\n",
        "even=[]\n",
        "for i in range(a,b+1):\n",
        "  if i%2==0:\n",
        "    even=i\n",
        "\n",
        "    continue\n",
        "    even=i\n",
        "print(even)"
      ],
      "metadata": {
        "colab": {
          "base_uri": "https://localhost:8080/"
        },
        "id": "rEAP2h71ZSmi",
        "outputId": "02c93672-805e-451a-9a92-9d94b794ea30"
      },
      "execution_count": 12,
      "outputs": [
        {
          "output_type": "stream",
          "name": "stdout",
          "text": [
            "98\n"
          ]
        }
      ]
    },
    {
      "cell_type": "markdown",
      "source": [
        "###Write a Python program to check whether the given strings are palindromes or not. Return True otherwise False."
      ],
      "metadata": {
        "id": "dqXtpN09cpQJ"
      }
    },
    {
      "cell_type": "code",
      "source": [
        "s=\"madamimadam\"\n",
        "s= \"\".join(filter(str.isalnum,s))\n",
        "left=0\n",
        "palindrom=True\n",
        "for i in range(len(s)//2):\n",
        " if s[i]!=s[-i-1]:\n",
        "  palindrom =False\n",
        "\n",
        "if palindrom:\n",
        "  print(True)\n",
        "else:\n",
        "  print(False)\n"
      ],
      "metadata": {
        "colab": {
          "base_uri": "https://localhost:8080/"
        },
        "id": "ZDQoEnydcqye",
        "outputId": "8c3ff003-7c72-4d25-fd1d-0a49172ee27e"
      },
      "execution_count": 36,
      "outputs": [
        {
          "output_type": "stream",
          "name": "stdout",
          "text": [
            "True\n"
          ]
        }
      ]
    },
    {
      "cell_type": "markdown",
      "source": [
        "###Write a Python program that accepts a string and calculates the number of digits and letters."
      ],
      "metadata": {
        "id": "g1XLiBR_iEr-"
      }
    },
    {
      "cell_type": "code",
      "source": [
        "s=\"W3resource\"\n",
        "print(len(\"\".join(filter(str.isdigit,s))))\n",
        "print(len(\"\".join(filter(str.isalpha,s))))\n"
      ],
      "metadata": {
        "colab": {
          "base_uri": "https://localhost:8080/"
        },
        "id": "xCO-UK53isyp",
        "outputId": "8357fdfd-5733-4bd4-c575-52a63ac215f1"
      },
      "execution_count": 44,
      "outputs": [
        {
          "output_type": "stream",
          "name": "stdout",
          "text": [
            "1\n",
            "9\n"
          ]
        }
      ]
    },
    {
      "cell_type": "markdown",
      "source": [
        "###Write a Python program to find numbers that are greater than 10 and have odd first and last digits."
      ],
      "metadata": {
        "id": "Nq38eSu-kRIE"
      }
    },
    {
      "cell_type": "code",
      "source": [
        "lst=[1, 3, 79, 10, 4, 1, 39,49,48]\n",
        "\n",
        "num=[]\n",
        "for i in lst:\n",
        "  if i>10:\n",
        "    digit=i%10\n",
        "    temp=i\n",
        "    temp=temp//10\n",
        "    if digit%2!=0 and temp%2!=0:\n",
        "      num.append(i)\n",
        "print(num)\n"
      ],
      "metadata": {
        "colab": {
          "base_uri": "https://localhost:8080/"
        },
        "id": "pH_8DSzpkSu5",
        "outputId": "7741c148-efe1-4167-f41c-b044551dd141"
      },
      "execution_count": 60,
      "outputs": [
        {
          "output_type": "stream",
          "name": "stdout",
          "text": [
            "[79, 39]\n"
          ]
        }
      ]
    },
    {
      "cell_type": "markdown",
      "source": [
        "###Write a Python program to get the single digits in numbers sorted backwards and converted into English words."
      ],
      "metadata": {
        "id": "wwQap9G_qgZW"
      }
    },
    {
      "cell_type": "code",
      "source": [
        "arr = [1, 3, 4, 5, 11]\n",
        "lst = []\n",
        "\n",
        "# Map numbers to their corresponding words\n",
        "num_to_word = {\n",
        "    0: \"zero\", 1: \"one\", 2: \"two\", 3: \"three\", 4: \"four\",\n",
        "    5: \"five\", 6: \"six\", 7: \"seven\", 8: \"eight\", 9: \"nine\"\n",
        "}\n",
        "\n",
        "for i in sorted(arr,reverse=True):\n",
        "    if i in num_to_word:\n",
        "        lst.append(num_to_word[i])\n",
        "    else:\n",
        "        pass  # Handle numbers not in the dictionary\n",
        "\n",
        "print(lst)\n"
      ],
      "metadata": {
        "colab": {
          "base_uri": "https://localhost:8080/"
        },
        "id": "X-xGzMVgqeiB",
        "outputId": "75f6ee66-a993-44d0-c5ef-17117d1cb0a6"
      },
      "execution_count": 74,
      "outputs": [
        {
          "output_type": "stream",
          "name": "stdout",
          "text": [
            "['five', 'four', 'three', 'one']\n"
          ]
        }
      ]
    },
    {
      "cell_type": "markdown",
      "source": [],
      "metadata": {
        "id": "mLd9IxjgwOR3"
      }
    }
  ]
}